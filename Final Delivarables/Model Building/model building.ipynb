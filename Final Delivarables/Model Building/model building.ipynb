{
  "nbformat": 4,
  "nbformat_minor": 0,
  "metadata": {
    "colab": {
      "provenance": []
    },
    "kernelspec": {
      "name": "python3",
      "display_name": "Python 3"
    },
    "language_info": {
      "name": "python"
    }
  },
  "cells": [
    {
      "cell_type": "code",
      "source": [
        "#extract zip file\n",
        "\n",
        "!unzip '/content/dataset.zip'"
      ],
      "metadata": {
        "id": "3eyc8KP2fMLD"
      },
      "execution_count": null,
      "outputs": []
    },
    {
      "cell_type": "code",
      "source": [
        "#importing image data generator library"
      ],
      "metadata": {
        "id": "QN3bbppHh4xK"
      },
      "execution_count": null,
      "outputs": []
    },
    {
      "cell_type": "code",
      "source": [
        "from tensorflow.keras.preprocessing.image import ImageDataGenerator"
      ],
      "metadata": {
        "id": "ZvIbnXEdh_Yz"
      },
      "execution_count": 20,
      "outputs": []
    },
    {
      "cell_type": "markdown",
      "source": [
        "**Image Data Augmentation**"
      ],
      "metadata": {
        "id": "o1xD9h2kiGO5"
      }
    },
    {
      "cell_type": "code",
      "source": [
        "#Configuring image Data Generator Class\n",
        "\n",
        "#Setting Parameter for Image Augmentation for training data\n",
        "\n",
        "train_datagen = ImageDataGenerator(rescale = 1./255, shear_range = 0.2, zoom_range = 0.2, horizontal_flip = True)\n",
        "\n",
        "#Image Data Augmentation for testing data\n",
        "\n",
        "test_datagen = ImageDataGenerator(rescale = 1./255)"
      ],
      "metadata": {
        "id": "XEWDMHwLiMl2"
      },
      "execution_count": 21,
      "outputs": []
    },
    {
      "cell_type": "markdown",
      "source": [
        "## **Apply ImageDataGenerator Functionality To Trainset And Testset**"
      ],
      "metadata": {
        "id": "mo9J30KfiSyR"
      }
    },
    {
      "cell_type": "code",
      "source": [
        "#Performing data augmentation to train data\n",
        "\n",
        "x_train = train_datagen.flow_from_directory('/content/dataset/train_set', target_size = (64,64), batch_size = 5, color_mode = 'rgb', class_mode = 'categorical')\n",
        "\n",
        "#performing data augmentation to test data\n",
        "\n",
        "x_test = test_datagen.flow_from_directory('/content/dataset/test_set', target_size = (64,64), batch_size = 5, color_mode = 'rgb', class_mode = 'categorical')"
      ],
      "metadata": {
        "colab": {
          "base_uri": "https://localhost:8080/"
        },
        "id": "EBIFkZkIia8O",
        "outputId": "b377e764-fc98-4463-f665-a2b34978b00b"
      },
      "execution_count": 22,
      "outputs": [
        {
          "output_type": "stream",
          "name": "stdout",
          "text": [
            "Found 742 images belonging to 4 classes.\n",
            "Found 198 images belonging to 4 classes.\n"
          ]
        }
      ]
    },
    {
      "cell_type": "code",
      "source": [
        "#importing neccessary libraries\n",
        "\n",
        "import numpy as np\n",
        "import tensorflow\n",
        "from tensorflow.keras.models import Sequential\n",
        "from tensorflow.keras.layers import Dense,Conv2D,MaxPooling2D,Flatten"
      ],
      "metadata": {
        "id": "I3a4Yjv1ih2F"
      },
      "execution_count": 23,
      "outputs": []
    },
    {
      "cell_type": "code",
      "source": [
        "# initialising the model and adding CNN layers\n",
        "\n",
        "model = Sequential()\n",
        "\n",
        "# First convolution layer and pooling\n",
        "model.add(Conv2D(32,(3,3),input_shape=(64,64,3),activation='relu'))\n",
        "model.add(MaxPooling2D(pool_size=(2,2)))\n",
        "\n",
        "#Second convolution layer and pooling\n",
        "model.add(Conv2D(32,(3,3),activation='relu'))\n",
        "model.add(MaxPooling2D(pool_size=(2,2)))\n",
        "\n",
        "#Flattening the layers\n",
        "model.add(Flatten())\n",
        "\n",
        "#Adding Dense Layers\n",
        "model.add(Dense(units=128,activation='relu'))\n",
        "model.add(Dense(units=4,activation='softmax'))"
      ],
      "metadata": {
        "id": "PLAwhX7Yik1W"
      },
      "execution_count": 24,
      "outputs": []
    },
    {
      "cell_type": "code",
      "source": [
        "# Summary of our model\n",
        "\n",
        "model.summary()"
      ],
      "metadata": {
        "colab": {
          "base_uri": "https://localhost:8080/"
        },
        "id": "tsClKaxfipnN",
        "outputId": "b6ac0cf9-5623-4790-dc34-ead9fbe36627"
      },
      "execution_count": 25,
      "outputs": [
        {
          "output_type": "stream",
          "name": "stdout",
          "text": [
            "Model: \"sequential\"\n",
            "_________________________________________________________________\n",
            " Layer (type)                Output Shape              Param #   \n",
            "=================================================================\n",
            " conv2d (Conv2D)             (None, 62, 62, 32)        896       \n",
            "                                                                 \n",
            " max_pooling2d (MaxPooling2D  (None, 31, 31, 32)       0         \n",
            " )                                                               \n",
            "                                                                 \n",
            " conv2d_1 (Conv2D)           (None, 29, 29, 32)        9248      \n",
            "                                                                 \n",
            " max_pooling2d_1 (MaxPooling  (None, 14, 14, 32)       0         \n",
            " 2D)                                                             \n",
            "                                                                 \n",
            " flatten (Flatten)           (None, 6272)              0         \n",
            "                                                                 \n",
            " dense (Dense)               (None, 128)               802944    \n",
            "                                                                 \n",
            " dense_1 (Dense)             (None, 4)                 516       \n",
            "                                                                 \n",
            "=================================================================\n",
            "Total params: 813,604\n",
            "Trainable params: 813,604\n",
            "Non-trainable params: 0\n",
            "_________________________________________________________________\n"
          ]
        }
      ]
    },
    {
      "cell_type": "code",
      "source": [],
      "metadata": {
        "id": "2dMDCmS9mNeq"
      },
      "execution_count": null,
      "outputs": []
    },
    {
      "cell_type": "code",
      "source": [
        "# Fitting the model\n",
        "\n",
        "model.fit_generator(generator=x_train,steps_per_epoch=len(x_train),epochs=20,validation_data=x_test,validation_steps=len(x_test))"
      ],
      "metadata": {
        "colab": {
          "base_uri": "https://localhost:8080/"
        },
        "id": "4D60lDUeizHV",
        "outputId": "7daafd99-b807-46dc-98a1-202263ac724e"
      },
      "execution_count": 27,
      "outputs": [
        {
          "output_type": "stream",
          "name": "stderr",
          "text": [
            "/usr/local/lib/python3.7/dist-packages/ipykernel_launcher.py:3: UserWarning: `Model.fit_generator` is deprecated and will be removed in a future version. Please use `Model.fit`, which supports generators.\n",
            "  This is separate from the ipykernel package so we can avoid doing imports until\n"
          ]
        },
        {
          "output_type": "stream",
          "name": "stdout",
          "text": [
            "Epoch 1/20\n",
            "149/149 [==============================] - 41s 266ms/step - loss: 1.3266 - accuracy: 0.3464 - val_loss: 1.2705 - val_accuracy: 0.3889\n",
            "Epoch 2/20\n",
            "149/149 [==============================] - 39s 261ms/step - loss: 0.9916 - accuracy: 0.5512 - val_loss: 0.8763 - val_accuracy: 0.6313\n",
            "Epoch 3/20\n",
            "149/149 [==============================] - 43s 287ms/step - loss: 0.8122 - accuracy: 0.6739 - val_loss: 1.0854 - val_accuracy: 0.5707\n",
            "Epoch 4/20\n",
            "149/149 [==============================] - 39s 265ms/step - loss: 0.6978 - accuracy: 0.7183 - val_loss: 0.7831 - val_accuracy: 0.6818\n",
            "Epoch 5/20\n",
            "149/149 [==============================] - 38s 256ms/step - loss: 0.6345 - accuracy: 0.7372 - val_loss: 0.6702 - val_accuracy: 0.7677\n",
            "Epoch 6/20\n",
            "149/149 [==============================] - 38s 257ms/step - loss: 0.5268 - accuracy: 0.7790 - val_loss: 0.6343 - val_accuracy: 0.7576\n",
            "Epoch 7/20\n",
            "149/149 [==============================] - 38s 257ms/step - loss: 0.5071 - accuracy: 0.7992 - val_loss: 0.6708 - val_accuracy: 0.7626\n",
            "Epoch 8/20\n",
            "149/149 [==============================] - 39s 259ms/step - loss: 0.4651 - accuracy: 0.8275 - val_loss: 0.7798 - val_accuracy: 0.7576\n",
            "Epoch 9/20\n",
            "149/149 [==============================] - 38s 258ms/step - loss: 0.4517 - accuracy: 0.8329 - val_loss: 0.7471 - val_accuracy: 0.7778\n",
            "Epoch 10/20\n",
            "149/149 [==============================] - 38s 259ms/step - loss: 0.3707 - accuracy: 0.8612 - val_loss: 0.7299 - val_accuracy: 0.7879\n",
            "Epoch 11/20\n",
            "149/149 [==============================] - 38s 258ms/step - loss: 0.3822 - accuracy: 0.8598 - val_loss: 0.8805 - val_accuracy: 0.7020\n",
            "Epoch 12/20\n",
            "149/149 [==============================] - 38s 259ms/step - loss: 0.3231 - accuracy: 0.8895 - val_loss: 0.6649 - val_accuracy: 0.8232\n",
            "Epoch 13/20\n",
            "149/149 [==============================] - 39s 261ms/step - loss: 0.2715 - accuracy: 0.9097 - val_loss: 0.9581 - val_accuracy: 0.7475\n",
            "Epoch 14/20\n",
            "149/149 [==============================] - 38s 258ms/step - loss: 0.3429 - accuracy: 0.8854 - val_loss: 0.8293 - val_accuracy: 0.7525\n",
            "Epoch 15/20\n",
            "149/149 [==============================] - 42s 282ms/step - loss: 0.2614 - accuracy: 0.8989 - val_loss: 0.8490 - val_accuracy: 0.7727\n",
            "Epoch 16/20\n",
            "149/149 [==============================] - 38s 255ms/step - loss: 0.2355 - accuracy: 0.9111 - val_loss: 0.7335 - val_accuracy: 0.8283\n",
            "Epoch 17/20\n",
            "149/149 [==============================] - 38s 257ms/step - loss: 0.2149 - accuracy: 0.9272 - val_loss: 0.8199 - val_accuracy: 0.7929\n",
            "Epoch 18/20\n",
            "149/149 [==============================] - 38s 258ms/step - loss: 0.1930 - accuracy: 0.9178 - val_loss: 0.8699 - val_accuracy: 0.8030\n",
            "Epoch 19/20\n",
            "149/149 [==============================] - 38s 254ms/step - loss: 0.1888 - accuracy: 0.9380 - val_loss: 0.9724 - val_accuracy: 0.7525\n",
            "Epoch 20/20\n",
            "149/149 [==============================] - 38s 259ms/step - loss: 0.1873 - accuracy: 0.9340 - val_loss: 0.9741 - val_accuracy: 0.7727\n"
          ]
        },
        {
          "output_type": "execute_result",
          "data": {
            "text/plain": [
              "<keras.callbacks.History at 0x7f08ddc5bb90>"
            ]
          },
          "metadata": {},
          "execution_count": 27
        }
      ]
    },
    {
      "cell_type": "code",
      "source": [
        "# Save the model\n",
        "\n",
        "model.save('disaster.h5')\n",
        "model_json = model.to_json()\n",
        "with open(\"model-bw.json\", \"w\") as json_file:\n",
        "  json_file.write(model_json)"
      ],
      "metadata": {
        "id": "tyJ_h9EomVlA"
      },
      "execution_count": 28,
      "outputs": []
    },
    {
      "cell_type": "code",
      "source": [
        "# Load the saved model\n",
        "\n",
        "from tensorflow.keras.models import load_model\n",
        "from tensorflow.keras.preprocessing import image\n",
        "model = load_model('disaster.h5')"
      ],
      "metadata": {
        "id": "MlXVNFaGmgHN"
      },
      "execution_count": 29,
      "outputs": []
    },
    {
      "cell_type": "code",
      "source": [
        "x_train.class_indices"
      ],
      "metadata": {
        "colab": {
          "base_uri": "https://localhost:8080/"
        },
        "id": "w4UDK2pNml0C",
        "outputId": "dfce17a7-f24e-404a-d0e7-1405742c8ea8"
      },
      "execution_count": 30,
      "outputs": [
        {
          "output_type": "execute_result",
          "data": {
            "text/plain": [
              "{'Cyclone': 0, 'Earthquake': 1, 'Flood': 2, 'Wildfire': 3}"
            ]
          },
          "metadata": {},
          "execution_count": 30
        }
      ]
    },
    {
      "cell_type": "code",
      "source": [
        "# taking image as input\n",
        "\n",
        "img = image.load_img('/content/dataset/test_set/Flood/1003.jpg',target_size=(64,64))\n",
        "x=image.img_to_array(img)\n",
        "x=np.expand_dims(x,axis=0)\n",
        "index=['Cyclone','Earthquake','Flood','Wildfire']\n",
        "y=np.argmax(model.predict(x),axis=1)\n",
        "print(index[int(y)])"
      ],
      "metadata": {
        "colab": {
          "base_uri": "https://localhost:8080/"
        },
        "id": "eR6d2q2Qmuuc",
        "outputId": "8364fd78-1ee4-4b43-d54a-3da87d195360"
      },
      "execution_count": 31,
      "outputs": [
        {
          "output_type": "stream",
          "name": "stdout",
          "text": [
            "1/1 [==============================] - 0s 128ms/step\n",
            "Flood\n"
          ]
        }
      ]
    },
    {
      "cell_type": "code",
      "source": [
        "# input 2\n",
        "\n",
        "img = image.load_img('/content/dataset/test_set/Wildfire/1065.jpg',target_size=(64,64))\n",
        "x=image.img_to_array(img)\n",
        "x=np.expand_dims(x,axis=0)\n",
        "index=['Cyclone','Earthquake','Flood','Wildfire']\n",
        "y=np.argmax(model.predict(x),axis=1)\n",
        "print(index[int(y)])"
      ],
      "metadata": {
        "colab": {
          "base_uri": "https://localhost:8080/"
        },
        "id": "nFo41cjdm2B5",
        "outputId": "967f15f6-5633-4549-c0bf-8d7027b97d49"
      },
      "execution_count": 32,
      "outputs": [
        {
          "output_type": "stream",
          "name": "stdout",
          "text": [
            "1/1 [==============================] - 0s 21ms/step\n",
            "Wildfire\n"
          ]
        }
      ]
    }
  ]
}